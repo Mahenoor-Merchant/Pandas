{
 "cells": [
  {
   "cell_type": "markdown",
   "id": "bf01b1ca-c0d9-46c7-b8f7-94f3a781ba7f",
   "metadata": {},
   "source": [
    "# Assignment : Pandas Basics "
   ]
  },
  {
   "cell_type": "markdown",
   "id": "9248ec53-4d46-4723-98d0-c60628dda7ec",
   "metadata": {},
   "source": [
    "### Q1. Create a Pandas Series that contains the following data: 4, 8, 15, 16, 23, and 42. Then, print the series."
   ]
  },
  {
   "cell_type": "code",
   "execution_count": 1,
   "id": "ca55050b-d4ea-4d99-b8d7-cd91702b2452",
   "metadata": {},
   "outputs": [],
   "source": [
    "import pandas as pd"
   ]
  },
  {
   "cell_type": "code",
   "execution_count": 2,
   "id": "9cf76ca3-bd6d-49da-a71c-9a61d6e2a7f7",
   "metadata": {},
   "outputs": [
    {
     "data": {
      "text/plain": [
       "0     4\n",
       "1     8\n",
       "2    15\n",
       "3    16\n",
       "4    23\n",
       "5    42\n",
       "dtype: int64"
      ]
     },
     "execution_count": 2,
     "metadata": {},
     "output_type": "execute_result"
    }
   ],
   "source": [
    "Data=pd.Series([4, 8, 15, 16, 23, 42])\n",
    "Data"
   ]
  },
  {
   "cell_type": "markdown",
   "id": "9ac1542d-1391-428f-9ae3-7a79e1e29fce",
   "metadata": {},
   "source": [
    "### Q2. Create a variable of list type containing 10 elements in it, and apply pandas.Series function on the variable print it."
   ]
  },
  {
   "cell_type": "code",
   "execution_count": 3,
   "id": "b6e3faf3-9ea3-48fe-85c5-7680faa49ae5",
   "metadata": {},
   "outputs": [],
   "source": [
    "Var = [\"A\",\"B\",\"C\",\"D\",\"E\",\"F\",\"G\",\"H\",\"I\",\"J\"] "
   ]
  },
  {
   "cell_type": "code",
   "execution_count": 4,
   "id": "aaf3798c-43e3-4914-bd6f-22583fdcb17f",
   "metadata": {},
   "outputs": [
    {
     "data": {
      "text/plain": [
       "0    A\n",
       "1    B\n",
       "2    C\n",
       "3    D\n",
       "4    E\n",
       "5    F\n",
       "6    G\n",
       "7    H\n",
       "8    I\n",
       "9    J\n",
       "dtype: object"
      ]
     },
     "execution_count": 4,
     "metadata": {},
     "output_type": "execute_result"
    }
   ],
   "source": [
    "pd.Series(Var)"
   ]
  },
  {
   "attachments": {
    "1b9bfc7f-dc5b-4ca4-bf72-9aa9d05240aa.png": {
     "image/png": "[encoded data removed]"
    }
   },
   "cell_type": "markdown",
   "id": "99f0d0aa-c73f-44b3-b056-64de22f33682",
   "metadata": {},
   "source": [
    "### Q3. Create a Pandas DataFrame that contains the following data:\n",
    "![image.png](attachment:1b9bfc7f-dc5b-4ca4-bf72-9aa9d05240aa.png)"
   ]
  },
  {
   "cell_type": "code",
   "execution_count": 5,
   "id": "23104307-a10e-4c71-abbb-cddc947703e3",
   "metadata": {},
   "outputs": [
    {
     "data": {
      "text/html": [
       "<div>\n",
       "<style scoped>\n",
       "    .dataframe tbody tr th:only-of-type {\n",
       "        vertical-align: middle;\n",
       "    }\n",
       "\n",
       "    .dataframe tbody tr th {\n",
       "        vertical-align: top;\n",
       "    }\n",
       "\n",
       "    .dataframe thead th {\n",
       "        text-align: right;\n",
       "    }\n",
       "</style>\n",
       "<table border=\"1\" class=\"dataframe\">\n",
       "  <thead>\n",
       "    <tr style=\"text-align: right;\">\n",
       "      <th></th>\n",
       "      <th>Name</th>\n",
       "      <th>Age</th>\n",
       "      <th>Gender</th>\n",
       "    </tr>\n",
       "  </thead>\n",
       "  <tbody>\n",
       "    <tr>\n",
       "      <th>0</th>\n",
       "      <td>Alice</td>\n",
       "      <td>25</td>\n",
       "      <td>Female</td>\n",
       "    </tr>\n",
       "    <tr>\n",
       "      <th>1</th>\n",
       "      <td>Bob</td>\n",
       "      <td>30</td>\n",
       "      <td>Male</td>\n",
       "    </tr>\n",
       "    <tr>\n",
       "      <th>2</th>\n",
       "      <td>Claire</td>\n",
       "      <td>27</td>\n",
       "      <td>Female</td>\n",
       "    </tr>\n",
       "  </tbody>\n",
       "</table>\n",
       "</div>"
      ],
      "text/plain": [
       "     Name  Age  Gender\n",
       "0   Alice   25  Female\n",
       "1     Bob   30    Male\n",
       "2  Claire   27  Female"
      ]
     },
     "execution_count": 5,
     "metadata": {},
     "output_type": "execute_result"
    }
   ],
   "source": [
    "pd.DataFrame({\"Name\":[\"Alice\",\"Bob\",\"Claire\"],\"Age\": [25,30,27],\"Gender\":[\"Female\",\"Male\",\"Female\"]})"
   ]
  },
  {
   "cell_type": "markdown",
   "id": "45ccc551-8397-449b-a249-a60c01385bbb",
   "metadata": {},
   "source": [
    "### Q4. What is ‘DataFrame’ in pandas and how is it different from pandas.series? Explain with an example.\n",
    "\n",
    "DataFrame in Pandas contains multiple columns or records. While, Series in Pandas is equivalent to a list.\n",
    "Series is a Data Structure in Pandas. Every Column/ Row of a DataFrame is a Series.\n",
    "\n",
    "#### To Understand this lets create a Data Frame"
   ]
  },
  {
   "cell_type": "code",
   "execution_count": 6,
   "id": "4f84aeb4-9345-43fd-accc-d4a8fa6ec430",
   "metadata": {},
   "outputs": [],
   "source": [
    "df=pd.DataFrame({\"Students_Name\":[\"Aakash\",\"Bobby\",\"Charles\",\"Harry\"],\"Age\": [17,30,20,18],\"Gender\":[\"Male\",\"Male\",\"Male\",\"Male\"], \"Email_id\":[\"Aakash@gmail.com\",\"Bobby@yahoo.com\",\"CharlesDicken@yahoo.com\",\"Mrpotter@gmsil.com\"]})"
   ]
  },
  {
   "cell_type": "code",
   "execution_count": 7,
   "id": "701b19f0-66e8-4c39-8756-28a21ad36ea0",
   "metadata": {},
   "outputs": [
    {
     "data": {
      "text/html": [
       "<div>\n",
       "<style scoped>\n",
       "    .dataframe tbody tr th:only-of-type {\n",
       "        vertical-align: middle;\n",
       "    }\n",
       "\n",
       "    .dataframe tbody tr th {\n",
       "        vertical-align: top;\n",
       "    }\n",
       "\n",
       "    .dataframe thead th {\n",
       "        text-align: right;\n",
       "    }\n",
       "</style>\n",
       "<table border=\"1\" class=\"dataframe\">\n",
       "  <thead>\n",
       "    <tr style=\"text-align: right;\">\n",
       "      <th></th>\n",
       "      <th>Students_Name</th>\n",
       "      <th>Age</th>\n",
       "      <th>Gender</th>\n",
       "      <th>Email_id</th>\n",
       "    </tr>\n",
       "  </thead>\n",
       "  <tbody>\n",
       "    <tr>\n",
       "      <th>0</th>\n",
       "      <td>Aakash</td>\n",
       "      <td>17</td>\n",
       "      <td>Male</td>\n",
       "      <td>Aakash@gmail.com</td>\n",
       "    </tr>\n",
       "    <tr>\n",
       "      <th>1</th>\n",
       "      <td>Bobby</td>\n",
       "      <td>30</td>\n",
       "      <td>Male</td>\n",
       "      <td>Bobby@yahoo.com</td>\n",
       "    </tr>\n",
       "    <tr>\n",
       "      <th>2</th>\n",
       "      <td>Charles</td>\n",
       "      <td>20</td>\n",
       "      <td>Male</td>\n",
       "      <td>CharlesDicken@yahoo.com</td>\n",
       "    </tr>\n",
       "    <tr>\n",
       "      <th>3</th>\n",
       "      <td>Harry</td>\n",
       "      <td>18</td>\n",
       "      <td>Male</td>\n",
       "      <td>Mrpotter@gmsil.com</td>\n",
       "    </tr>\n",
       "  </tbody>\n",
       "</table>\n",
       "</div>"
      ],
      "text/plain": [
       "  Students_Name  Age Gender                 Email_id\n",
       "0        Aakash   17   Male         Aakash@gmail.com\n",
       "1         Bobby   30   Male          Bobby@yahoo.com\n",
       "2       Charles   20   Male  CharlesDicken@yahoo.com\n",
       "3         Harry   18   Male       Mrpotter@gmsil.com"
      ]
     },
     "execution_count": 7,
     "metadata": {},
     "output_type": "execute_result"
    }
   ],
   "source": [
    "df"
   ]
  },
  {
   "cell_type": "code",
   "execution_count": 8,
   "id": "4fa4453c-c485-47bb-8a36-e80cc9aceab6",
   "metadata": {},
   "outputs": [
    {
     "data": {
      "text/plain": [
       "pandas.core.frame.DataFrame"
      ]
     },
     "execution_count": 8,
     "metadata": {},
     "output_type": "execute_result"
    }
   ],
   "source": [
    "type(df)"
   ]
  },
  {
   "cell_type": "code",
   "execution_count": 9,
   "id": "81d09589-2674-4603-8cc2-6c21c63a9551",
   "metadata": {},
   "outputs": [
    {
     "data": {
      "text/plain": [
       "pandas.core.series.Series"
      ]
     },
     "execution_count": 9,
     "metadata": {},
     "output_type": "execute_result"
    }
   ],
   "source": [
    "type(df['Students_Name'])"
   ]
  },
  {
   "cell_type": "markdown",
   "id": "5884e99e-5e22-4e53-b16a-b503d0313bae",
   "metadata": {},
   "source": [
    "As we can see that when a column from DataFrame df is selected its type is shown as Series."
   ]
  },
  {
   "cell_type": "markdown",
   "id": "39dad651-6d5d-4fec-9a07-6381d41aaf98",
   "metadata": {},
   "source": [
    "### Q5. What are some common functions you can use to manipulate data in a Pandas DataFrame? Can you give an example of when you might use one of these functions?"
   ]
  },
  {
   "cell_type": "markdown",
   "id": "d8eff19f-e264-47d7-9f08-61176ab83022",
   "metadata": {},
   "source": [
    "There are many functions that can be used to manipulate data in Pandas, They include the following:\n",
    "\n",
    "df.head() : To read the First 5 rows of data.\n",
    "\n",
    "df.tail() :To read the Last 5 rows of data.\n",
    "\n",
    "df.describe() : To get Statistics about a data.\n",
    "\n",
    "pd.Categorical(df['Column_name']) : To see how many unique data is available.\n",
    "\n",
    "Series1.append(Series2): To append Series2 to Series1.\n",
    "\n",
    "df.drop(): To drop (delete) a particular column or row from Data.\n",
    "\n",
    "df.set_index('Column_name') : To set a particular column Indexes.\n",
    "\n",
    "df.reset-index(): To reset indexes to the default indexes ie.0,1,2,3.....\n",
    "\n",
    "AND MANY MORE.\n",
    "\n",
    "##### NOTE: Here we are assuming DataFrame is saved as df and Pandas is imported as pd."
   ]
  },
  {
   "cell_type": "code",
   "execution_count": 10,
   "id": "3db85cec-b854-4599-b486-0eeefd7bcedb",
   "metadata": {},
   "outputs": [],
   "source": [
    "df=pd.DataFrame({\"Numbers\":[1,2,3,4,5,6,7,8,9,10,11,12,13,14,15],\"Numbers_reverse\":[15,14,13,12,11,10,9,8,7,6,5,4,3,2,1]})"
   ]
  },
  {
   "cell_type": "code",
   "execution_count": 11,
   "id": "4606fa10-738f-4474-91c0-37815edc80d8",
   "metadata": {},
   "outputs": [
    {
     "data": {
      "text/html": [
       "<div>\n",
       "<style scoped>\n",
       "    .dataframe tbody tr th:only-of-type {\n",
       "        vertical-align: middle;\n",
       "    }\n",
       "\n",
       "    .dataframe tbody tr th {\n",
       "        vertical-align: top;\n",
       "    }\n",
       "\n",
       "    .dataframe thead th {\n",
       "        text-align: right;\n",
       "    }\n",
       "</style>\n",
       "<table border=\"1\" class=\"dataframe\">\n",
       "  <thead>\n",
       "    <tr style=\"text-align: right;\">\n",
       "      <th></th>\n",
       "      <th>Numbers</th>\n",
       "      <th>Numbers_reverse</th>\n",
       "    </tr>\n",
       "  </thead>\n",
       "  <tbody>\n",
       "    <tr>\n",
       "      <th>0</th>\n",
       "      <td>1</td>\n",
       "      <td>15</td>\n",
       "    </tr>\n",
       "    <tr>\n",
       "      <th>1</th>\n",
       "      <td>2</td>\n",
       "      <td>14</td>\n",
       "    </tr>\n",
       "    <tr>\n",
       "      <th>2</th>\n",
       "      <td>3</td>\n",
       "      <td>13</td>\n",
       "    </tr>\n",
       "    <tr>\n",
       "      <th>3</th>\n",
       "      <td>4</td>\n",
       "      <td>12</td>\n",
       "    </tr>\n",
       "    <tr>\n",
       "      <th>4</th>\n",
       "      <td>5</td>\n",
       "      <td>11</td>\n",
       "    </tr>\n",
       "  </tbody>\n",
       "</table>\n",
       "</div>"
      ],
      "text/plain": [
       "   Numbers  Numbers_reverse\n",
       "0        1               15\n",
       "1        2               14\n",
       "2        3               13\n",
       "3        4               12\n",
       "4        5               11"
      ]
     },
     "execution_count": 11,
     "metadata": {},
     "output_type": "execute_result"
    }
   ],
   "source": [
    "df.head()"
   ]
  },
  {
   "cell_type": "code",
   "execution_count": 12,
   "id": "8695ffd4-2da4-40bc-a471-f286a91bd781",
   "metadata": {},
   "outputs": [
    {
     "data": {
      "text/html": [
       "<div>\n",
       "<style scoped>\n",
       "    .dataframe tbody tr th:only-of-type {\n",
       "        vertical-align: middle;\n",
       "    }\n",
       "\n",
       "    .dataframe tbody tr th {\n",
       "        vertical-align: top;\n",
       "    }\n",
       "\n",
       "    .dataframe thead th {\n",
       "        text-align: right;\n",
       "    }\n",
       "</style>\n",
       "<table border=\"1\" class=\"dataframe\">\n",
       "  <thead>\n",
       "    <tr style=\"text-align: right;\">\n",
       "      <th></th>\n",
       "      <th>Numbers</th>\n",
       "      <th>Numbers_reverse</th>\n",
       "    </tr>\n",
       "  </thead>\n",
       "  <tbody>\n",
       "    <tr>\n",
       "      <th>10</th>\n",
       "      <td>11</td>\n",
       "      <td>5</td>\n",
       "    </tr>\n",
       "    <tr>\n",
       "      <th>11</th>\n",
       "      <td>12</td>\n",
       "      <td>4</td>\n",
       "    </tr>\n",
       "    <tr>\n",
       "      <th>12</th>\n",
       "      <td>13</td>\n",
       "      <td>3</td>\n",
       "    </tr>\n",
       "    <tr>\n",
       "      <th>13</th>\n",
       "      <td>14</td>\n",
       "      <td>2</td>\n",
       "    </tr>\n",
       "    <tr>\n",
       "      <th>14</th>\n",
       "      <td>15</td>\n",
       "      <td>1</td>\n",
       "    </tr>\n",
       "  </tbody>\n",
       "</table>\n",
       "</div>"
      ],
      "text/plain": [
       "    Numbers  Numbers_reverse\n",
       "10       11                5\n",
       "11       12                4\n",
       "12       13                3\n",
       "13       14                2\n",
       "14       15                1"
      ]
     },
     "execution_count": 12,
     "metadata": {},
     "output_type": "execute_result"
    }
   ],
   "source": [
    "df.tail()"
   ]
  },
  {
   "cell_type": "code",
   "execution_count": 13,
   "id": "b4e1387e-52f5-421b-a159-87b4e60c6877",
   "metadata": {},
   "outputs": [
    {
     "data": {
      "text/plain": [
       "[15, 14, 13, 12, 11, ..., 5, 4, 3, 2, 1]\n",
       "Length: 15\n",
       "Categories (15, int64): [1, 2, 3, 4, ..., 12, 13, 14, 15]"
      ]
     },
     "execution_count": 13,
     "metadata": {},
     "output_type": "execute_result"
    }
   ],
   "source": [
    "pd.Categorical(df['Numbers_reverse'])"
   ]
  },
  {
   "cell_type": "markdown",
   "id": "0887556e-ade7-464d-8730-1c6e39c88e4b",
   "metadata": {},
   "source": [
    "### Q6. Which of the following is mutable in nature Series, DataFrame, Panel?\n",
    "\n",
    "In Pandas, Series and DataFrame are mutable in nature, while Panel has been deprecated since version 0.25.0 and is no longer used.\n",
    "\n",
    "A mutable object is an object that can be modified after it has been created. In the case of a Series object, you can modify its values by changing individual elements or by assigning a new set of values to the entire series. Similarly, in the case of a DataFrame object, you can add, remove, or modify columns and rows."
   ]
  },
  {
   "cell_type": "markdown",
   "id": "204e4176-dced-47af-8fe3-d12f499b71b0",
   "metadata": {},
   "source": [
    "### Q7. Create a DataFrame using multiple Series. Explain with an example."
   ]
  },
  {
   "cell_type": "code",
   "execution_count": 14,
   "id": "452c65cc-753f-4a78-b91a-d1eabf650f1c",
   "metadata": {},
   "outputs": [],
   "source": [
    "S1=pd.Series({\"S1\":['A','B','C','D','E'], \"S2\":[\"F\",\"G\",\"H\",\"I\",\"J\"]})"
   ]
  },
  {
   "cell_type": "code",
   "execution_count": 15,
   "id": "7348575e-473d-476f-b627-a3e940af2281",
   "metadata": {},
   "outputs": [],
   "source": [
    "S2=pd.Series({\"S1\":[1,2,3,4,5],\"S2\":[6,7,8,9,10]})"
   ]
  },
  {
   "cell_type": "code",
   "execution_count": 16,
   "id": "89b0a408-1d2a-4b53-8f4e-0968dd48bad2",
   "metadata": {},
   "outputs": [],
   "source": [
    "d= {\"Alphabet\": S1 ,\"Numbers\": S2}"
   ]
  },
  {
   "cell_type": "code",
   "execution_count": 17,
   "id": "3b54e107-32d0-4139-8a65-d43211b2c1d7",
   "metadata": {},
   "outputs": [
    {
     "data": {
      "text/html": [
       "<div>\n",
       "<style scoped>\n",
       "    .dataframe tbody tr th:only-of-type {\n",
       "        vertical-align: middle;\n",
       "    }\n",
       "\n",
       "    .dataframe tbody tr th {\n",
       "        vertical-align: top;\n",
       "    }\n",
       "\n",
       "    .dataframe thead th {\n",
       "        text-align: right;\n",
       "    }\n",
       "</style>\n",
       "<table border=\"1\" class=\"dataframe\">\n",
       "  <thead>\n",
       "    <tr style=\"text-align: right;\">\n",
       "      <th></th>\n",
       "      <th>Alphabet</th>\n",
       "      <th>Numbers</th>\n",
       "    </tr>\n",
       "  </thead>\n",
       "  <tbody>\n",
       "    <tr>\n",
       "      <th>S1</th>\n",
       "      <td>[A, B, C, D, E]</td>\n",
       "      <td>[1, 2, 3, 4, 5]</td>\n",
       "    </tr>\n",
       "    <tr>\n",
       "      <th>S2</th>\n",
       "      <td>[F, G, H, I, J]</td>\n",
       "      <td>[6, 7, 8, 9, 10]</td>\n",
       "    </tr>\n",
       "  </tbody>\n",
       "</table>\n",
       "</div>"
      ],
      "text/plain": [
       "           Alphabet           Numbers\n",
       "S1  [A, B, C, D, E]   [1, 2, 3, 4, 5]\n",
       "S2  [F, G, H, I, J]  [6, 7, 8, 9, 10]"
      ]
     },
     "execution_count": 17,
     "metadata": {},
     "output_type": "execute_result"
    }
   ],
   "source": [
    "pd.DataFrame(d)"
   ]
  },
  {
   "cell_type": "markdown",
   "id": "f511b6b3-946d-4013-9a00-207c77abc95e",
   "metadata": {},
   "source": [
    "## THE END"
   ]
  },
  {
   "cell_type": "code",
   "execution_count": null,
   "id": "5059c3f3-ad43-41e6-beb3-713ab566cf74",
   "metadata": {},
   "outputs": [],
   "source": []
  }
 ],
 "metadata": {
  "kernelspec": {
   "display_name": "Python 3 (ipykernel)",
   "language": "python",
   "name": "python3"
  },
  "language_info": {
   "codemirror_mode": {
    "name": "ipython",
    "version": 3
   },
   "file_extension": ".py",
   "mimetype": "text/x-python",
   "name": "python",
   "nbconvert_exporter": "python",
   "pygments_lexer": "ipython3",
   "version": "3.10.8"
  }
 },
 "nbformat": 4,
 "nbformat_minor": 5
}
